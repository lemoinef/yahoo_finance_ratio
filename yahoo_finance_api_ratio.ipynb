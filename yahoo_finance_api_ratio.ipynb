{
 "cells": [
  {
   "cell_type": "code",
   "execution_count": 2,
   "metadata": {},
   "outputs": [],
   "source": [
    "from yahoo_finance import Share\n",
    "home_depot = Share(\"HD\")"
   ]
  },
  {
   "cell_type": "code",
   "execution_count": 3,
   "metadata": {},
   "outputs": [
    {
     "name": "stdout",
     "output_type": "stream",
     "text": [
      "22.66\n"
     ]
    }
   ],
   "source": [
    "print(home_depot.get_price_earnings_ratio())"
   ]
  },
  {
   "cell_type": "code",
   "execution_count": 7,
   "metadata": {},
   "outputs": [
    {
     "name": "stdout",
     "output_type": "stream",
     "text": [
      "Price to Earning Ratio\n",
      "22.66\n",
      "16.92\n",
      "None\n",
      "----------\n"
     ]
    }
   ],
   "source": [
    "portfolio = [\"HD\", \"AAPL\", \"TSLA\"]\n",
    "\n",
    "print(\"Price to Earning Ratio\")\n",
    "for share in portfolio:\n",
    "    stock = Share(share)\n",
    "    print(stock.get_price_earnings_ratio())\n",
    "print(\"----------\")"
   ]
  },
  {
   "cell_type": "code",
   "execution_count": 8,
   "metadata": {},
   "outputs": [
    {
     "name": "stdout",
     "output_type": "stream",
     "text": [
      "Market Cap\n",
      "182.01B\n",
      "752.15B\n",
      "59.52B\n",
      "----------\n"
     ]
    }
   ],
   "source": [
    "print(\"Market Cap\")\n",
    "for share in portfolio:\n",
    "    stock = Share(share)\n",
    "    print(stock.get_market_cap())\n",
    "print(\"----------\")"
   ]
  },
  {
   "cell_type": "code",
   "execution_count": 10,
   "metadata": {},
   "outputs": [
    {
     "name": "stdout",
     "output_type": "stream",
     "text": [
      "EBITDA\n",
      "15.69B\n",
      "69.72B\n",
      "530.74M\n",
      "----------\n"
     ]
    }
   ],
   "source": [
    "print(\"EBITDA\")\n",
    "for share in portfolio:\n",
    "    stock = Share(share)\n",
    "    print(stock.get_ebitda())\n",
    "print(\"----------\")"
   ]
  },
  {
   "cell_type": "code",
   "execution_count": 12,
   "metadata": {},
   "outputs": [
    {
     "name": "stdout",
     "output_type": "stream",
     "text": [
      "short ratio\n",
      "2.62\n",
      "2.13\n",
      "4.60\n",
      "----------\n"
     ]
    }
   ],
   "source": [
    "print(\"short ratio\")\n",
    "for share in portfolio:\n",
    "    stock = Share(share)\n",
    "    print(stock.get_short_ratio())\n",
    "print(\"----------\")"
   ]
  },
  {
   "cell_type": "code",
   "execution_count": null,
   "metadata": {
    "collapsed": true
   },
   "outputs": [],
   "source": []
  }
 ],
 "metadata": {
  "anaconda-cloud": {},
  "kernelspec": {
   "display_name": "Python [Root]",
   "language": "python",
   "name": "Python [Root]"
  },
  "language_info": {
   "codemirror_mode": {
    "name": "ipython",
    "version": 3
   },
   "file_extension": ".py",
   "mimetype": "text/x-python",
   "name": "python",
   "nbconvert_exporter": "python",
   "pygments_lexer": "ipython3",
   "version": "3.5.2"
  }
 },
 "nbformat": 4,
 "nbformat_minor": 2
}
